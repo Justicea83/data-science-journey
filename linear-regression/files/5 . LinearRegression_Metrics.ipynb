{
 "cells": [
  {
   "cell_type": "markdown",
   "metadata": {
    "colab_type": "text",
    "id": "njq8PR9Yg-HM"
   },
   "source": [
    "Basic Imports"
   ]
  },
  {
   "cell_type": "code",
   "execution_count": 29,
   "metadata": {
    "colab": {},
    "colab_type": "code",
    "executionInfo": {
     "elapsed": 1496,
     "status": "ok",
     "timestamp": 1594917413535,
     "user": {
      "displayName": "Abhilash Chintada",
      "photoUrl": "https://lh3.googleusercontent.com/a-/AOh14GhlwwwMJr16CgjmRFWk833xZEy2OfpaFZDIqM84=s64",
      "userId": "00311744807213723199"
     },
     "user_tz": -330
    },
    "id": "W3ssws2HDluI"
   },
   "outputs": [],
   "source": [
    "import pandas as pd \n",
    "import numpy as np\n",
    "import matplotlib.pyplot as plt\n",
    "import seaborn as sns"
   ]
  },
  {
   "cell_type": "markdown",
   "metadata": {
    "colab_type": "text",
    "id": "ARe5ODbShBtX"
   },
   "source": [
    "Load the dataset"
   ]
  },
  {
   "cell_type": "code",
   "execution_count": 30,
   "metadata": {
    "colab": {
     "base_uri": "https://localhost:8080/",
     "height": 202
    },
    "colab_type": "code",
    "executionInfo": {
     "elapsed": 1888,
     "status": "ok",
     "timestamp": 1594917413949,
     "user": {
      "displayName": "Abhilash Chintada",
      "photoUrl": "https://lh3.googleusercontent.com/a-/AOh14GhlwwwMJr16CgjmRFWk833xZEy2OfpaFZDIqM84=s64",
      "userId": "00311744807213723199"
     },
     "user_tz": -330
    },
    "id": "nqpLb--Jgjm7",
    "outputId": "08133d97-b177-4b0c-e25d-d5fc2d9a8a1e"
   },
   "outputs": [
    {
     "data": {
      "text/html": [
       "<div>\n",
       "<style scoped>\n",
       "    .dataframe tbody tr th:only-of-type {\n",
       "        vertical-align: middle;\n",
       "    }\n",
       "\n",
       "    .dataframe tbody tr th {\n",
       "        vertical-align: top;\n",
       "    }\n",
       "\n",
       "    .dataframe thead th {\n",
       "        text-align: right;\n",
       "    }\n",
       "</style>\n",
       "<table border=\"1\" class=\"dataframe\">\n",
       "  <thead>\n",
       "    <tr style=\"text-align: right;\">\n",
       "      <th></th>\n",
       "      <th>age</th>\n",
       "      <th>sex</th>\n",
       "      <th>bmi</th>\n",
       "      <th>children</th>\n",
       "      <th>smoker</th>\n",
       "      <th>region</th>\n",
       "      <th>expenses</th>\n",
       "    </tr>\n",
       "  </thead>\n",
       "  <tbody>\n",
       "    <tr>\n",
       "      <th>0</th>\n",
       "      <td>19</td>\n",
       "      <td>female</td>\n",
       "      <td>27.9</td>\n",
       "      <td>0</td>\n",
       "      <td>yes</td>\n",
       "      <td>southwest</td>\n",
       "      <td>16884.92</td>\n",
       "    </tr>\n",
       "    <tr>\n",
       "      <th>1</th>\n",
       "      <td>18</td>\n",
       "      <td>male</td>\n",
       "      <td>33.8</td>\n",
       "      <td>1</td>\n",
       "      <td>no</td>\n",
       "      <td>southeast</td>\n",
       "      <td>1725.55</td>\n",
       "    </tr>\n",
       "    <tr>\n",
       "      <th>2</th>\n",
       "      <td>28</td>\n",
       "      <td>male</td>\n",
       "      <td>33.0</td>\n",
       "      <td>3</td>\n",
       "      <td>no</td>\n",
       "      <td>southeast</td>\n",
       "      <td>4449.46</td>\n",
       "    </tr>\n",
       "    <tr>\n",
       "      <th>3</th>\n",
       "      <td>33</td>\n",
       "      <td>male</td>\n",
       "      <td>22.7</td>\n",
       "      <td>0</td>\n",
       "      <td>no</td>\n",
       "      <td>northwest</td>\n",
       "      <td>21984.47</td>\n",
       "    </tr>\n",
       "    <tr>\n",
       "      <th>4</th>\n",
       "      <td>32</td>\n",
       "      <td>male</td>\n",
       "      <td>28.9</td>\n",
       "      <td>0</td>\n",
       "      <td>no</td>\n",
       "      <td>northwest</td>\n",
       "      <td>3866.86</td>\n",
       "    </tr>\n",
       "  </tbody>\n",
       "</table>\n",
       "</div>"
      ],
      "text/plain": [
       "   age     sex   bmi  children smoker     region  expenses\n",
       "0   19  female  27.9         0    yes  southwest  16884.92\n",
       "1   18    male  33.8         1     no  southeast   1725.55\n",
       "2   28    male  33.0         3     no  southeast   4449.46\n",
       "3   33    male  22.7         0     no  northwest  21984.47\n",
       "4   32    male  28.9         0     no  northwest   3866.86"
      ]
     },
     "execution_count": 30,
     "metadata": {},
     "output_type": "execute_result"
    }
   ],
   "source": [
    "data = pd.read_csv(\"insurance.csv\")\n",
    "\n",
    "data.head()"
   ]
  },
  {
   "cell_type": "code",
   "execution_count": 31,
   "metadata": {
    "colab": {
     "base_uri": "https://localhost:8080/",
     "height": 35
    },
    "colab_type": "code",
    "executionInfo": {
     "elapsed": 1863,
     "status": "ok",
     "timestamp": 1594917413950,
     "user": {
      "displayName": "Abhilash Chintada",
      "photoUrl": "https://lh3.googleusercontent.com/a-/AOh14GhlwwwMJr16CgjmRFWk833xZEy2OfpaFZDIqM84=s64",
      "userId": "00311744807213723199"
     },
     "user_tz": -330
    },
    "id": "vqAYN0MNGnuH",
    "outputId": "8fca056c-245f-4a9b-dc01-10ee504c9a14"
   },
   "outputs": [
    {
     "data": {
      "text/plain": [
       "(1338, 7)"
      ]
     },
     "execution_count": 31,
     "metadata": {},
     "output_type": "execute_result"
    }
   ],
   "source": [
    "data.shape"
   ]
  },
  {
   "cell_type": "code",
   "execution_count": 32,
   "metadata": {
    "colab": {
     "base_uri": "https://localhost:8080/",
     "height": 260
    },
    "colab_type": "code",
    "executionInfo": {
     "elapsed": 1822,
     "status": "ok",
     "timestamp": 1594917413951,
     "user": {
      "displayName": "Abhilash Chintada",
      "photoUrl": "https://lh3.googleusercontent.com/a-/AOh14GhlwwwMJr16CgjmRFWk833xZEy2OfpaFZDIqM84=s64",
      "userId": "00311744807213723199"
     },
     "user_tz": -330
    },
    "id": "cnHvt_CkGtAJ",
    "outputId": "5b6d621f-245c-4d21-9393-1c41abc48fec"
   },
   "outputs": [
    {
     "name": "stdout",
     "output_type": "stream",
     "text": [
      "<class 'pandas.core.frame.DataFrame'>\n",
      "RangeIndex: 1338 entries, 0 to 1337\n",
      "Data columns (total 7 columns):\n",
      " #   Column    Non-Null Count  Dtype  \n",
      "---  ------    --------------  -----  \n",
      " 0   age       1338 non-null   int64  \n",
      " 1   sex       1338 non-null   object \n",
      " 2   bmi       1338 non-null   float64\n",
      " 3   children  1338 non-null   int64  \n",
      " 4   smoker    1338 non-null   object \n",
      " 5   region    1338 non-null   object \n",
      " 6   expenses  1338 non-null   float64\n",
      "dtypes: float64(2), int64(2), object(3)\n",
      "memory usage: 73.3+ KB\n"
     ]
    }
   ],
   "source": [
    "data.info()"
   ]
  },
  {
   "cell_type": "markdown",
   "metadata": {
    "colab_type": "text",
    "id": "CcQpYqQThEA6"
   },
   "source": [
    "Check the feature correlations"
   ]
  },
  {
   "cell_type": "code",
   "execution_count": 33,
   "metadata": {
    "colab": {
     "base_uri": "https://localhost:8080/",
     "height": 613
    },
    "colab_type": "code",
    "executionInfo": {
     "elapsed": 2210,
     "status": "ok",
     "timestamp": 1594917414377,
     "user": {
      "displayName": "Abhilash Chintada",
      "photoUrl": "https://lh3.googleusercontent.com/a-/AOh14GhlwwwMJr16CgjmRFWk833xZEy2OfpaFZDIqM84=s64",
      "userId": "00311744807213723199"
     },
     "user_tz": -330
    },
    "id": "jDGsg7QYIyjQ",
    "outputId": "6db86873-8d16-4a09-f74b-89e26238932d"
   },
   "outputs": [
    {
     "data": {
      "text/plain": [
       "<AxesSubplot:>"
      ]
     },
     "execution_count": 33,
     "metadata": {},
     "output_type": "execute_result"
    },
    {
     "data": {
      "image/png": "[encoded data removed]",
      "text/plain": [
       "<Figure size 720x720 with 2 Axes>"
      ]
     },
     "metadata": {
      "needs_background": "light"
     },
     "output_type": "display_data"
    }
   ],
   "source": [
    "fig, ax = plt.subplots(figsize=(10,10))\n",
    "\n",
    "corr = data.corr()\n",
    "sns.heatmap(corr , annot = True , ax=ax)"
   ]
  },
  {
   "cell_type": "markdown",
   "metadata": {
    "colab_type": "text",
    "id": "ehbtrN7Mh374"
   },
   "source": [
    "Label Encode Object Types"
   ]
  },
  {
   "cell_type": "code",
   "execution_count": 34,
   "metadata": {
    "colab": {
     "base_uri": "https://localhost:8080/",
     "height": 312
    },
    "colab_type": "code",
    "executionInfo": {
     "elapsed": 2192,
     "status": "ok",
     "timestamp": 1594917414378,
     "user": {
      "displayName": "Abhilash Chintada",
      "photoUrl": "https://lh3.googleusercontent.com/a-/AOh14GhlwwwMJr16CgjmRFWk833xZEy2OfpaFZDIqM84=s64",
      "userId": "00311744807213723199"
     },
     "user_tz": -330
    },
    "id": "dpezzhlEiJlU",
    "outputId": "593db7bf-6fbf-4740-efdd-678bc4d79e0b"
   },
   "outputs": [
    {
     "name": "stdout",
     "output_type": "stream",
     "text": [
      "<======== sex ===========>\n",
      "male      676\n",
      "female    662\n",
      "Name: sex, dtype: int64\n",
      "\n",
      "<======== smoker ===========>\n",
      "no     1064\n",
      "yes     274\n",
      "Name: smoker, dtype: int64\n",
      "\n",
      "<======== region ===========>\n",
      "southeast    364\n",
      "southwest    325\n",
      "northwest    325\n",
      "northeast    324\n",
      "Name: region, dtype: int64\n",
      "\n"
     ]
    }
   ],
   "source": [
    "d_types = dict(data.dtypes)\n",
    "for name , type_ in d_types.items():\n",
    "    if str(type_) == 'object':\n",
    "        print(f\"<======== {name} ===========>\")\n",
    "        print(data[name].value_counts())\n",
    "        print()"
   ]
  },
  {
   "cell_type": "code",
   "execution_count": 35,
   "metadata": {
    "colab": {},
    "colab_type": "code",
    "executionInfo": {
     "elapsed": 2168,
     "status": "ok",
     "timestamp": 1594917414379,
     "user": {
      "displayName": "Abhilash Chintada",
      "photoUrl": "https://lh3.googleusercontent.com/a-/AOh14GhlwwwMJr16CgjmRFWk833xZEy2OfpaFZDIqM84=s64",
      "userId": "00311744807213723199"
     },
     "user_tz": -330
    },
    "id": "kdDi3cr7iE3z"
   },
   "outputs": [],
   "source": [
    "from sklearn.preprocessing import LabelEncoder\n",
    "\n",
    "for name , type_ in d_types.items():\n",
    "    if str(type_) == 'object':\n",
    "        Le = LabelEncoder()\n",
    "        data[name] = Le.fit_transform(data[name])"
   ]
  },
  {
   "cell_type": "markdown",
   "metadata": {
    "colab_type": "text",
    "id": "Epf1N6vnkQwU"
   },
   "source": [
    "Check info after Label Encoding"
   ]
  },
  {
   "cell_type": "code",
   "execution_count": 36,
   "metadata": {
    "colab": {
     "base_uri": "https://localhost:8080/",
     "height": 260
    },
    "colab_type": "code",
    "executionInfo": {
     "elapsed": 2141,
     "status": "ok",
     "timestamp": 1594917414380,
     "user": {
      "displayName": "Abhilash Chintada",
      "photoUrl": "https://lh3.googleusercontent.com/a-/AOh14GhlwwwMJr16CgjmRFWk833xZEy2OfpaFZDIqM84=s64",
      "userId": "00311744807213723199"
     },
     "user_tz": -330
    },
    "id": "G0i3hWXPkUP0",
    "outputId": "1141d824-b777-4049-ce98-4e6066a1446b"
   },
   "outputs": [
    {
     "name": "stdout",
     "output_type": "stream",
     "text": [
      "<class 'pandas.core.frame.DataFrame'>\n",
      "RangeIndex: 1338 entries, 0 to 1337\n",
      "Data columns (total 7 columns):\n",
      " #   Column    Non-Null Count  Dtype  \n",
      "---  ------    --------------  -----  \n",
      " 0   age       1338 non-null   int64  \n",
      " 1   sex       1338 non-null   int64  \n",
      " 2   bmi       1338 non-null   float64\n",
      " 3   children  1338 non-null   int64  \n",
      " 4   smoker    1338 non-null   int64  \n",
      " 5   region    1338 non-null   int64  \n",
      " 6   expenses  1338 non-null   float64\n",
      "dtypes: float64(2), int64(5)\n",
      "memory usage: 73.3 KB\n"
     ]
    }
   ],
   "source": [
    "data.info()"
   ]
  },
  {
   "cell_type": "markdown",
   "metadata": {
    "colab_type": "text",
    "id": "krC9zYSxmIBu"
   },
   "source": [
    "One hot Encoding "
   ]
  },
  {
   "cell_type": "code",
   "execution_count": 37,
   "metadata": {
    "colab": {
     "base_uri": "https://localhost:8080/",
     "height": 202
    },
    "colab_type": "code",
    "executionInfo": {
     "elapsed": 2101,
     "status": "ok",
     "timestamp": 1594917414381,
     "user": {
      "displayName": "Abhilash Chintada",
      "photoUrl": "https://lh3.googleusercontent.com/a-/AOh14GhlwwwMJr16CgjmRFWk833xZEy2OfpaFZDIqM84=s64",
      "userId": "00311744807213723199"
     },
     "user_tz": -330
    },
    "id": "eCyVK4UOmJ9-",
    "outputId": "b8d3519d-c836-441e-f508-a7a3e77124e4"
   },
   "outputs": [
    {
     "data": {
      "text/html": [
       "<div>\n",
       "<style scoped>\n",
       "    .dataframe tbody tr th:only-of-type {\n",
       "        vertical-align: middle;\n",
       "    }\n",
       "\n",
       "    .dataframe tbody tr th {\n",
       "        vertical-align: top;\n",
       "    }\n",
       "\n",
       "    .dataframe thead th {\n",
       "        text-align: right;\n",
       "    }\n",
       "</style>\n",
       "<table border=\"1\" class=\"dataframe\">\n",
       "  <thead>\n",
       "    <tr style=\"text-align: right;\">\n",
       "      <th></th>\n",
       "      <th>age</th>\n",
       "      <th>sex</th>\n",
       "      <th>bmi</th>\n",
       "      <th>children</th>\n",
       "      <th>smoker</th>\n",
       "      <th>expenses</th>\n",
       "      <th>region_2</th>\n",
       "      <th>region_3</th>\n",
       "      <th>region_1</th>\n",
       "      <th>region_0</th>\n",
       "    </tr>\n",
       "  </thead>\n",
       "  <tbody>\n",
       "    <tr>\n",
       "      <th>0</th>\n",
       "      <td>19</td>\n",
       "      <td>0</td>\n",
       "      <td>27.9</td>\n",
       "      <td>0</td>\n",
       "      <td>1</td>\n",
       "      <td>16884.92</td>\n",
       "      <td>0.0</td>\n",
       "      <td>0.0</td>\n",
       "      <td>0.0</td>\n",
       "      <td>1.0</td>\n",
       "    </tr>\n",
       "    <tr>\n",
       "      <th>1</th>\n",
       "      <td>18</td>\n",
       "      <td>1</td>\n",
       "      <td>33.8</td>\n",
       "      <td>1</td>\n",
       "      <td>0</td>\n",
       "      <td>1725.55</td>\n",
       "      <td>0.0</td>\n",
       "      <td>0.0</td>\n",
       "      <td>1.0</td>\n",
       "      <td>0.0</td>\n",
       "    </tr>\n",
       "    <tr>\n",
       "      <th>2</th>\n",
       "      <td>28</td>\n",
       "      <td>1</td>\n",
       "      <td>33.0</td>\n",
       "      <td>3</td>\n",
       "      <td>0</td>\n",
       "      <td>4449.46</td>\n",
       "      <td>0.0</td>\n",
       "      <td>0.0</td>\n",
       "      <td>1.0</td>\n",
       "      <td>0.0</td>\n",
       "    </tr>\n",
       "    <tr>\n",
       "      <th>3</th>\n",
       "      <td>33</td>\n",
       "      <td>1</td>\n",
       "      <td>22.7</td>\n",
       "      <td>0</td>\n",
       "      <td>0</td>\n",
       "      <td>21984.47</td>\n",
       "      <td>0.0</td>\n",
       "      <td>1.0</td>\n",
       "      <td>0.0</td>\n",
       "      <td>0.0</td>\n",
       "    </tr>\n",
       "    <tr>\n",
       "      <th>4</th>\n",
       "      <td>32</td>\n",
       "      <td>1</td>\n",
       "      <td>28.9</td>\n",
       "      <td>0</td>\n",
       "      <td>0</td>\n",
       "      <td>3866.86</td>\n",
       "      <td>0.0</td>\n",
       "      <td>1.0</td>\n",
       "      <td>0.0</td>\n",
       "      <td>0.0</td>\n",
       "    </tr>\n",
       "  </tbody>\n",
       "</table>\n",
       "</div>"
      ],
      "text/plain": [
       "   age  sex   bmi  children  smoker  expenses  region_2  region_3  region_1  \\\n",
       "0   19    0  27.9         0       1  16884.92       0.0       0.0       0.0   \n",
       "1   18    1  33.8         1       0   1725.55       0.0       0.0       1.0   \n",
       "2   28    1  33.0         3       0   4449.46       0.0       0.0       1.0   \n",
       "3   33    1  22.7         0       0  21984.47       0.0       1.0       0.0   \n",
       "4   32    1  28.9         0       0   3866.86       0.0       1.0       0.0   \n",
       "\n",
       "   region_0  \n",
       "0       1.0  \n",
       "1       0.0  \n",
       "2       0.0  \n",
       "3       0.0  \n",
       "4       0.0  "
      ]
     },
     "execution_count": 37,
     "metadata": {},
     "output_type": "execute_result"
    }
   ],
   "source": [
    "from sklearn.preprocessing import OneHotEncoder\n",
    "\n",
    "onehotencoder = OneHotEncoder()\n",
    "part = onehotencoder.fit_transform(data['region'].values.reshape(-1,1)).toarray()\n",
    "\n",
    "values = dict(data[\"region\"].value_counts())\n",
    "\n",
    "for e , (val , _) in enumerate(values.items()):\n",
    "    data[\"region_\" + str(val)] = part[:,e]\n",
    "\n",
    "data = data.drop([\"region\"] , axis = 1)\n",
    "\n",
    "data.head()"
   ]
  },
  {
   "cell_type": "code",
   "execution_count": 38,
   "metadata": {
    "colab": {
     "base_uri": "https://localhost:8080/",
     "height": 312
    },
    "colab_type": "code",
    "executionInfo": {
     "elapsed": 2058,
     "status": "ok",
     "timestamp": 1594917414382,
     "user": {
      "displayName": "Abhilash Chintada",
      "photoUrl": "https://lh3.googleusercontent.com/a-/AOh14GhlwwwMJr16CgjmRFWk833xZEy2OfpaFZDIqM84=s64",
      "userId": "00311744807213723199"
     },
     "user_tz": -330
    },
    "id": "S6luuIcHoSr0",
    "outputId": "da72a683-ec73-4834-ac64-fc6f83cd9934"
   },
   "outputs": [
    {
     "name": "stdout",
     "output_type": "stream",
     "text": [
      "<class 'pandas.core.frame.DataFrame'>\n",
      "RangeIndex: 1338 entries, 0 to 1337\n",
      "Data columns (total 10 columns):\n",
      " #   Column    Non-Null Count  Dtype  \n",
      "---  ------    --------------  -----  \n",
      " 0   age       1338 non-null   int64  \n",
      " 1   sex       1338 non-null   int64  \n",
      " 2   bmi       1338 non-null   float64\n",
      " 3   children  1338 non-null   int64  \n",
      " 4   smoker    1338 non-null   int64  \n",
      " 5   expenses  1338 non-null   float64\n",
      " 6   region_2  1338 non-null   float64\n",
      " 7   region_3  1338 non-null   float64\n",
      " 8   region_1  1338 non-null   float64\n",
      " 9   region_0  1338 non-null   float64\n",
      "dtypes: float64(6), int64(4)\n",
      "memory usage: 104.7 KB\n"
     ]
    }
   ],
   "source": [
    "data.info()"
   ]
  },
  {
   "cell_type": "markdown",
   "metadata": {
    "colab_type": "text",
    "id": "YB-UpuHUwnFw"
   },
   "source": [
    "Handle Skewness in Predictive column"
   ]
  },
  {
   "cell_type": "code",
   "execution_count": 39,
   "metadata": {
    "colab": {},
    "colab_type": "code",
    "executionInfo": {
     "elapsed": 2020,
     "status": "ok",
     "timestamp": 1594917414383,
     "user": {
      "displayName": "Abhilash Chintada",
      "photoUrl": "https://lh3.googleusercontent.com/a-/AOh14GhlwwwMJr16CgjmRFWk833xZEy2OfpaFZDIqM84=s64",
      "userId": "00311744807213723199"
     },
     "user_tz": -330
    },
    "id": "1Fg-k6dv1jaJ"
   },
   "outputs": [],
   "source": [
    "Original_Y = data[\"expenses\"].values.copy()"
   ]
  },
  {
   "cell_type": "code",
   "execution_count": 40,
   "metadata": {
    "colab": {
     "base_uri": "https://localhost:8080/",
     "height": 35
    },
    "colab_type": "code",
    "executionInfo": {
     "elapsed": 1993,
     "status": "ok",
     "timestamp": 1594917414384,
     "user": {
      "displayName": "Abhilash Chintada",
      "photoUrl": "https://lh3.googleusercontent.com/a-/AOh14GhlwwwMJr16CgjmRFWk833xZEy2OfpaFZDIqM84=s64",
      "userId": "00311744807213723199"
     },
     "user_tz": -330
    },
    "id": "47gVsTW52Eh-",
    "outputId": "525f099a-3a23-435f-addf-23076cc0ffd0"
   },
   "outputs": [
    {
     "data": {
      "text/plain": [
       "array([16884.92,  1725.55,  4449.46, ...,  1629.83,  2007.95, 29141.36])"
      ]
     },
     "execution_count": 40,
     "metadata": {},
     "output_type": "execute_result"
    }
   ],
   "source": [
    "Original_Y"
   ]
  },
  {
   "cell_type": "code",
   "execution_count": 41,
   "metadata": {
    "colab": {
     "base_uri": "https://localhost:8080/",
     "height": 283
    },
    "colab_type": "code",
    "executionInfo": {
     "elapsed": 2494,
     "status": "ok",
     "timestamp": 1594917414920,
     "user": {
      "displayName": "Abhilash Chintada",
      "photoUrl": "https://lh3.googleusercontent.com/a-/AOh14GhlwwwMJr16CgjmRFWk833xZEy2OfpaFZDIqM84=s64",
      "userId": "00311744807213723199"
     },
     "user_tz": -330
    },
    "id": "MhH2uZ4Kwrcn",
    "outputId": "0a2c477d-2db1-4b6c-b7a7-51c65cb52259"
   },
   "outputs": [
    {
     "name": "stdout",
     "output_type": "stream",
     "text": [
      "Skewness in Column : Expenses  1.51587966289798\n"
     ]
    },
    {
     "data": {
      "image/png": "[encoded data removed]",
      "text/plain": [
       "<Figure size 432x288 with 1 Axes>"
      ]
     },
     "metadata": {
      "needs_background": "light"
     },
     "output_type": "display_data"
    }
   ],
   "source": [
    "print(\"Skewness in Column : Expenses \" , data[\"expenses\"].skew())\n",
    "\n",
    "plt.hist(data[\"expenses\"])\n",
    "plt.show()"
   ]
  },
  {
   "cell_type": "code",
   "execution_count": 42,
   "metadata": {
    "colab": {
     "base_uri": "https://localhost:8080/",
     "height": 283
    },
    "colab_type": "code",
    "executionInfo": {
     "elapsed": 2464,
     "status": "ok",
     "timestamp": 1594917414923,
     "user": {
      "displayName": "Abhilash Chintada",
      "photoUrl": "https://lh3.googleusercontent.com/a-/AOh14GhlwwwMJr16CgjmRFWk833xZEy2OfpaFZDIqM84=s64",
      "userId": "00311744807213723199"
     },
     "user_tz": -330
    },
    "id": "UgXw4Bsoxeg7",
    "outputId": "a8221d9c-edff-4149-e1ea-f80141fe206b"
   },
   "outputs": [
    {
     "name": "stdout",
     "output_type": "stream",
     "text": [
      "Skewness in Column : Log Expenses  -0.0900974307762623\n"
     ]
    },
    {
     "data": {
      "image/png": "[encoded data removed]",
      "text/plain": [
       "<Figure size 432x288 with 1 Axes>"
      ]
     },
     "metadata": {
      "needs_background": "light"
     },
     "output_type": "display_data"
    }
   ],
   "source": [
    "col_log = np.log(data[\"expenses\"])\n",
    "print(\"Skewness in Column : Log Expenses \" , col_log.skew())\n",
    "\n",
    "plt.hist(col_log)\n",
    "plt.show()"
   ]
  },
  {
   "cell_type": "code",
   "execution_count": 43,
   "metadata": {
    "colab": {
     "base_uri": "https://localhost:8080/",
     "height": 283
    },
    "colab_type": "code",
    "executionInfo": {
     "elapsed": 2868,
     "status": "ok",
     "timestamp": 1594917415373,
     "user": {
      "displayName": "Abhilash Chintada",
      "photoUrl": "https://lh3.googleusercontent.com/a-/AOh14GhlwwwMJr16CgjmRFWk833xZEy2OfpaFZDIqM84=s64",
      "userId": "00311744807213723199"
     },
     "user_tz": -330
    },
    "id": "Yo6bOuAhxp16",
    "outputId": "ef497cda-20ee-4969-bb3c-9a9a7c130582"
   },
   "outputs": [
    {
     "name": "stdout",
     "output_type": "stream",
     "text": [
      "Skewness in Column : Sqrt Expenses  0.7958625295340573\n"
     ]
    },
    {
     "data": {
      "image/png": "[encoded data removed]",
      "text/plain": [
       "<Figure size 432x288 with 1 Axes>"
      ]
     },
     "metadata": {
      "needs_background": "light"
     },
     "output_type": "display_data"
    }
   ],
   "source": [
    "col_sqrt = np.sqrt(data[\"expenses\"])\n",
    "\n",
    "print(\"Skewness in Column : Sqrt Expenses \" ,col_sqrt.skew())\n",
    "\n",
    "plt.hist(col_sqrt)\n",
    "plt.show()"
   ]
  },
  {
   "cell_type": "code",
   "execution_count": 44,
   "metadata": {
    "colab": {
     "base_uri": "https://localhost:8080/",
     "height": 283
    },
    "colab_type": "code",
    "executionInfo": {
     "elapsed": 2844,
     "status": "ok",
     "timestamp": 1594917415374,
     "user": {
      "displayName": "Abhilash Chintada",
      "photoUrl": "https://lh3.googleusercontent.com/a-/AOh14GhlwwwMJr16CgjmRFWk833xZEy2OfpaFZDIqM84=s64",
      "userId": "00311744807213723199"
     },
     "user_tz": -330
    },
    "id": "pKDFPGWWxutr",
    "outputId": "62b5671a-b068-4e32-fd61-256414685dfc"
   },
   "outputs": [
    {
     "name": "stdout",
     "output_type": "stream",
     "text": [
      "Skewness in Column : Sqrt Expenses  -0.008734062011873602\n"
     ]
    },
    {
     "data": {
      "image/png": "[encoded data removed]",
      "text/plain": [
       "<Figure size 432x288 with 1 Axes>"
      ]
     },
     "metadata": {
      "needs_background": "light"
     },
     "output_type": "display_data"
    }
   ],
   "source": [
    "from scipy import stats \n",
    "\n",
    "col_cox , lam = stats.boxcox(data[\"expenses\"])[0:2]\n",
    "print(\"Skewness in Column : Sqrt Expenses \" ,pd.Series(col_cox).skew())\n",
    "\n",
    "plt.hist(col_cox)\n",
    "plt.show()"
   ]
  },
  {
   "cell_type": "code",
   "execution_count": 45,
   "metadata": {
    "colab": {},
    "colab_type": "code",
    "executionInfo": {
     "elapsed": 2803,
     "status": "ok",
     "timestamp": 1594917415376,
     "user": {
      "displayName": "Abhilash Chintada",
      "photoUrl": "https://lh3.googleusercontent.com/a-/AOh14GhlwwwMJr16CgjmRFWk833xZEy2OfpaFZDIqM84=s64",
      "userId": "00311744807213723199"
     },
     "user_tz": -330
    },
    "id": "dYiUul6lze2W"
   },
   "outputs": [],
   "source": [
    "data[\"expenses\"] = col_cox"
   ]
  },
  {
   "cell_type": "markdown",
   "metadata": {
    "colab_type": "text",
    "id": "v-GRmEnrpLwa"
   },
   "source": [
    "Make Features and Targets"
   ]
  },
  {
   "cell_type": "code",
   "execution_count": 46,
   "metadata": {
    "colab": {},
    "colab_type": "code",
    "executionInfo": {
     "elapsed": 2786,
     "status": "ok",
     "timestamp": 1594917415378,
     "user": {
      "displayName": "Abhilash Chintada",
      "photoUrl": "https://lh3.googleusercontent.com/a-/AOh14GhlwwwMJr16CgjmRFWk833xZEy2OfpaFZDIqM84=s64",
      "userId": "00311744807213723199"
     },
     "user_tz": -330
    },
    "id": "VwsmZfDdo2-w"
   },
   "outputs": [],
   "source": [
    "remaining_columns = list(data.columns)\n",
    "remaining_columns.remove(\"expenses\")"
   ]
  },
  {
   "cell_type": "code",
   "execution_count": 47,
   "metadata": {
    "colab": {},
    "colab_type": "code",
    "executionInfo": {
     "elapsed": 2769,
     "status": "ok",
     "timestamp": 1594917415379,
     "user": {
      "displayName": "Abhilash Chintada",
      "photoUrl": "https://lh3.googleusercontent.com/a-/AOh14GhlwwwMJr16CgjmRFWk833xZEy2OfpaFZDIqM84=s64",
      "userId": "00311744807213723199"
     },
     "user_tz": -330
    },
    "id": "1BFQwbYeiKyu"
   },
   "outputs": [],
   "source": [
    "X = data[remaining_columns].values \n",
    "Y = data['expenses'].values"
   ]
  },
  {
   "cell_type": "code",
   "execution_count": 48,
   "metadata": {
    "colab": {},
    "colab_type": "code",
    "executionInfo": {
     "elapsed": 2752,
     "status": "ok",
     "timestamp": 1594917415381,
     "user": {
      "displayName": "Abhilash Chintada",
      "photoUrl": "https://lh3.googleusercontent.com/a-/AOh14GhlwwwMJr16CgjmRFWk833xZEy2OfpaFZDIqM84=s64",
      "userId": "00311744807213723199"
     },
     "user_tz": -330
    },
    "id": "su-Y1Gd9hh_Q"
   },
   "outputs": [],
   "source": [
    "from sklearn.model_selection import KFold \n",
    "from sklearn.preprocessing import StandardScaler\n",
    "\n",
    "Scaler = StandardScaler()\n",
    "X = Scaler.fit_transform(X)"
   ]
  },
  {
   "cell_type": "code",
   "execution_count": 49,
   "metadata": {
    "colab": {
     "base_uri": "https://localhost:8080/",
     "height": 287
    },
    "colab_type": "code",
    "executionInfo": {
     "elapsed": 2736,
     "status": "ok",
     "timestamp": 1594917415382,
     "user": {
      "displayName": "Abhilash Chintada",
      "photoUrl": "https://lh3.googleusercontent.com/a-/AOh14GhlwwwMJr16CgjmRFWk833xZEy2OfpaFZDIqM84=s64",
      "userId": "00311744807213723199"
     },
     "user_tz": -330
    },
    "id": "y7JUW_ARlfE7",
    "outputId": "e14a0f11-7e6b-4675-b4fa-25afd631b0bd"
   },
   "outputs": [
    {
     "data": {
      "text/plain": [
       "[<matplotlib.lines.Line2D at 0x7f6636039dc0>]"
      ]
     },
     "execution_count": 49,
     "metadata": {},
     "output_type": "execute_result"
    },
    {
     "data": {
      "image/png": "[encoded data removed]",
      "text/plain": [
       "<Figure size 432x288 with 1 Axes>"
      ]
     },
     "metadata": {
      "needs_background": "light"
     },
     "output_type": "display_data"
    }
   ],
   "source": [
    "# check whether data is standardized or not \n",
    "# mean should be 1 \n",
    "\n",
    "plt.ylim(-1,1)\n",
    "\n",
    "means = []\n",
    "for i in range(X.shape[1]):\n",
    "    means.append(np.mean(X[:,i]))\n",
    "plt.plot(means , scaley=False)"
   ]
  },
  {
   "cell_type": "code",
   "execution_count": 50,
   "metadata": {
    "colab": {
     "base_uri": "https://localhost:8080/",
     "height": 287
    },
    "colab_type": "code",
    "executionInfo": {
     "elapsed": 3238,
     "status": "ok",
     "timestamp": 1594917415911,
     "user": {
      "displayName": "Abhilash Chintada",
      "photoUrl": "https://lh3.googleusercontent.com/a-/AOh14GhlwwwMJr16CgjmRFWk833xZEy2OfpaFZDIqM84=s64",
      "userId": "00311744807213723199"
     },
     "user_tz": -330
    },
    "id": "hsmfuzN8lxh5",
    "outputId": "a4b13e6b-78f8-4bfe-a14a-ca0cafbece24"
   },
   "outputs": [
    {
     "data": {
      "text/plain": [
       "[<matplotlib.lines.Line2D at 0x7f6636017d90>]"
      ]
     },
     "execution_count": 50,
     "metadata": {},
     "output_type": "execute_result"
    },
    {
     "data": {
      "image/png": "[encoded data removed]",
      "text/plain": [
       "<Figure size 432x288 with 1 Axes>"
      ]
     },
     "metadata": {
      "needs_background": "light"
     },
     "output_type": "display_data"
    }
   ],
   "source": [
    "# Check variances \n",
    "\n",
    "plt.ylim(0,2)\n",
    "\n",
    "vars = []\n",
    "for i in range(X.shape[1]):\n",
    "    vars.append(np.var(X[:,i]))\n",
    "plt.plot(vars)"
   ]
  },
  {
   "cell_type": "code",
   "execution_count": 51,
   "metadata": {
    "colab": {
     "base_uri": "https://localhost:8080/",
     "height": 52
    },
    "colab_type": "code",
    "executionInfo": {
     "elapsed": 3211,
     "status": "ok",
     "timestamp": 1594917415915,
     "user": {
      "displayName": "Abhilash Chintada",
      "photoUrl": "https://lh3.googleusercontent.com/a-/AOh14GhlwwwMJr16CgjmRFWk833xZEy2OfpaFZDIqM84=s64",
      "userId": "00311744807213723199"
     },
     "user_tz": -330
    },
    "id": "sJ6YlDX2lPa2",
    "outputId": "19a3f1c9-987e-4186-d821-aa27e83a2b80"
   },
   "outputs": [
    {
     "data": {
      "text/plain": [
       "array([0.17443158, 0.32284686, 0.46979121, 0.59049392, 0.70795154,\n",
       "       0.81403557, 0.91668333])"
      ]
     },
     "execution_count": 51,
     "metadata": {},
     "output_type": "execute_result"
    }
   ],
   "source": [
    "from sklearn.linear_model import LinearRegression\n",
    "from sklearn.decomposition import PCA \n",
    "\n",
    "pca = PCA(n_components = 7)\n",
    "X = pca.fit_transform(X)\n",
    "\n",
    "pca.explained_variance_ratio_.cumsum()"
   ]
  },
  {
   "cell_type": "markdown",
   "metadata": {
    "colab_type": "text",
    "id": "4HlKJ86pvLm3"
   },
   "source": [
    "Defining Metrics "
   ]
  },
  {
   "cell_type": "code",
   "execution_count": 52,
   "metadata": {
    "colab": {},
    "colab_type": "code",
    "executionInfo": {
     "elapsed": 3195,
     "status": "ok",
     "timestamp": 1594917415916,
     "user": {
      "displayName": "Abhilash Chintada",
      "photoUrl": "https://lh3.googleusercontent.com/a-/AOh14GhlwwwMJr16CgjmRFWk833xZEy2OfpaFZDIqM84=s64",
      "userId": "00311744807213723199"
     },
     "user_tz": -330
    },
    "id": "D_lBkUWwvNq7"
   },
   "outputs": [],
   "source": [
    "def rmse_score(y_test , y_pred):\n",
    "    value = (1/len(y_test))*np.sum((y_test - y_pred)**2)\n",
    "    return np.sqrt(value)\n",
    "\n",
    "def r2_score(y_test , y_pred):\n",
    "    ssr = (1/len(y_test))*np.sum((y_test - y_pred)**2)\n",
    "    sst = (1/len(y_test))*np.sum((y_test - np.mean(y_test))**2)\n",
    "    return (1 - (ssr/sst))\n",
    "\n",
    "def mae(y_test , y_pred):\n",
    "    return (1/len(y_test))*np.sum(np.abs(y_test - y_pred))\n",
    "\n",
    "def adj_r2_score(y_test , y_pred , n_features):\n",
    "    numerator = (1-r2_score(y_test , y_pred))*(len(y_test) - 1)\n",
    "    denominator = len(y_test) - n_features - 1\n",
    "    return 1 - (numerator/denominator)"
   ]
  },
  {
   "cell_type": "code",
   "execution_count": 53,
   "metadata": {
    "colab": {
     "base_uri": "https://localhost:8080/",
     "height": 1000
    },
    "colab_type": "code",
    "executionInfo": {
     "elapsed": 4087,
     "status": "ok",
     "timestamp": 1594917416827,
     "user": {
      "displayName": "Abhilash Chintada",
      "photoUrl": "https://lh3.googleusercontent.com/a-/AOh14GhlwwwMJr16CgjmRFWk833xZEy2OfpaFZDIqM84=s64",
      "userId": "00311744807213723199"
     },
     "user_tz": -330
    },
    "id": "7D4J5YfQ6B0D",
    "outputId": "63984162-9d42-4433-b7a4-bba6a0cb72dd"
   },
   "outputs": [
    {
     "name": "stdout",
     "output_type": "stream",
     "text": [
      " Average RMSE  0.655352374332553\n"
     ]
    },
    {
     "data": {
      "image/png": "[encoded data removed]",
      "text/plain": [
       "<Figure size 432x288 with 1 Axes>"
      ]
     },
     "metadata": {
      "needs_background": "light"
     },
     "output_type": "display_data"
    },
    {
     "name": "stdout",
     "output_type": "stream",
     "text": [
      " Average MAE  0.41311421490841616\n"
     ]
    },
    {
     "data": {
      "image/png": "[encoded data removed]",
      "text/plain": [
       "<Figure size 432x288 with 1 Axes>"
      ]
     },
     "metadata": {
      "needs_background": "light"
     },
     "output_type": "display_data"
    },
    {
     "name": "stdout",
     "output_type": "stream",
     "text": [
      " Average R square  0.7668904952811475\n"
     ]
    },
    {
     "data": {
      "image/png": "[encoded data removed]",
      "text/plain": [
       "<Figure size 432x288 with 1 Axes>"
      ]
     },
     "metadata": {
      "needs_background": "light"
     },
     "output_type": "display_data"
    },
    {
     "name": "stdout",
     "output_type": "stream",
     "text": [
      " Average Adj R square  0.7606042897747062\n"
     ]
    },
    {
     "data": {
      "image/png": "[encoded data removed]",
      "text/plain": [
       "<Figure size 432x288 with 1 Axes>"
      ]
     },
     "metadata": {
      "needs_background": "light"
     },
     "output_type": "display_data"
    }
   ],
   "source": [
    "k_fold = KFold(n_splits=5)\n",
    "\n",
    "# Plotting Root mean squared error \n",
    "rmse_scores = []\n",
    "r2_scores = []\n",
    "mae_scores = []\n",
    "r2_adj_scores = []\n",
    "\n",
    "for train_idx , test_idx in k_fold.split(X):\n",
    "    Xtrain = X[train_idx]\n",
    "    Ytrain = Y[train_idx]\n",
    "\n",
    "    Xtest = X[test_idx]\n",
    "    Ytest = Y[test_idx]\n",
    "\n",
    "    model = LinearRegression()\n",
    "    model.fit(Xtrain , Ytrain)\n",
    "\n",
    "    Ypred = model.predict(Xtest)\n",
    "    rmse_scores.append(rmse_score(Ytest , Ypred))\n",
    "    r2_scores.append(r2_score(Ytest , Ypred))\n",
    "    mae_scores.append(mae(Ytest , Ypred))\n",
    "    r2_adj_scores.append(adj_r2_score(Ytest , Ypred , Xtest.shape[1]))\n",
    "\n",
    "print(\" Average RMSE \" , np.mean(rmse_scores))\n",
    "plt.plot(rmse_scores)\n",
    "plt.plot([np.mean(rmse_scores)]*len(rmse_scores))\n",
    "plt.title(\" RMSE \")\n",
    "plt.show()\n",
    "\n",
    "print(\" Average MAE \" , np.mean(mae_scores))\n",
    "plt.plot(mae_scores)\n",
    "plt.plot([np.mean(mae_scores)]*len(mae_scores))\n",
    "plt.title(\" MAE \")\n",
    "plt.show()\n",
    "\n",
    "print(\" Average R square \" , np.mean(r2_scores))\n",
    "plt.plot(r2_scores)\n",
    "plt.plot([np.mean(r2_scores)]*len(r2_scores))\n",
    "plt.title(\" R square \")\n",
    "plt.show()\n",
    "\n",
    "print(\" Average Adj R square \" , np.mean(r2_adj_scores))\n",
    "plt.plot(r2_adj_scores)\n",
    "plt.plot([np.mean(r2_adj_scores)]*len(r2_adj_scores))\n",
    "plt.title(\" Adj R square \")\n",
    "plt.show()"
   ]
  },
  {
   "cell_type": "markdown",
   "metadata": {
    "colab_type": "text",
    "id": "V_AJtCeF2kKh"
   },
   "source": [
    "Can we Bring back the data?"
   ]
  },
  {
   "cell_type": "code",
   "execution_count": null,
   "metadata": {
    "colab": {},
    "colab_type": "code",
    "executionInfo": {
     "elapsed": 4056,
     "status": "ok",
     "timestamp": 1594917416828,
     "user": {
      "displayName": "Abhilash Chintada",
      "photoUrl": "https://lh3.googleusercontent.com/a-/AOh14GhlwwwMJr16CgjmRFWk833xZEy2OfpaFZDIqM84=s64",
      "userId": "00311744807213723199"
     },
     "user_tz": -330
    },
    "id": "aqo-8Yp1zwUS"
   },
   "outputs": [],
   "source": [
    "from scipy.special import inv_boxcox\n",
    "\n",
    "Real_data = inv_boxcox(Y , lam)"
   ]
  },
  {
   "cell_type": "code",
   "execution_count": null,
   "metadata": {
    "colab": {
     "base_uri": "https://localhost:8080/",
     "height": 52
    },
    "colab_type": "code",
    "executionInfo": {
     "elapsed": 4043,
     "status": "ok",
     "timestamp": 1594917416830,
     "user": {
      "displayName": "Abhilash Chintada",
      "photoUrl": "https://lh3.googleusercontent.com/a-/AOh14GhlwwwMJr16CgjmRFWk833xZEy2OfpaFZDIqM84=s64",
      "userId": "00311744807213723199"
     },
     "user_tz": -330
    },
    "id": "ugFajEvw01yb",
    "outputId": "b8bc65e3-3a75-44b6-d905-d0edd5eaed93"
   },
   "outputs": [],
   "source": [
    "Real_data[:10]"
   ]
  },
  {
   "cell_type": "code",
   "execution_count": null,
   "metadata": {
    "colab": {
     "base_uri": "https://localhost:8080/",
     "height": 52
    },
    "colab_type": "code",
    "executionInfo": {
     "elapsed": 4026,
     "status": "ok",
     "timestamp": 1594917416832,
     "user": {
      "displayName": "Abhilash Chintada",
      "photoUrl": "https://lh3.googleusercontent.com/a-/AOh14GhlwwwMJr16CgjmRFWk833xZEy2OfpaFZDIqM84=s64",
      "userId": "00311744807213723199"
     },
     "user_tz": -330
    },
    "id": "9jzGIaDv1S0r",
    "outputId": "53852b4a-243c-4918-91d8-80d30b4167ba"
   },
   "outputs": [],
   "source": [
    "Original_Y[:10]"
   ]
  }
 ],
 "metadata": {
  "colab": {
   "authorship_tag": "ABX9TyNu6VvdIZjs/EgK+gksrQWG",
   "collapsed_sections": [],
   "name": "5 . LinearRegression_Metrics.ipynb",
   "provenance": []
  },
  "kernelspec": {
   "display_name": "Python 3",
   "language": "python",
   "name": "python3"
  },
  "language_info": {
   "codemirror_mode": {
    "name": "ipython",
    "version": 3
   },
   "file_extension": ".py",
   "mimetype": "text/x-python",
   "name": "python",
   "nbconvert_exporter": "python",
   "pygments_lexer": "ipython3",
   "version": "3.8.5"
  }
 },
 "nbformat": 4,
 "nbformat_minor": 1
}
