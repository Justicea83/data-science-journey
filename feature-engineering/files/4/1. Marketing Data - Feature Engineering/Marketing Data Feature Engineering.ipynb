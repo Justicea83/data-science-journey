{
 "cells": [
  {
   "cell_type": "code",
   "execution_count": 1,
   "metadata": {},
   "outputs": [],
   "source": [
    "# for Mathematical and Dataframe Operations\n",
    "import numpy as np\n",
    "import pandas as pd\n",
    "\n",
    "# for Data Visualizations\n",
    "import seaborn as sns\n",
    "import matplotlib.pyplot as plt"
   ]
  },
  {
   "cell_type": "markdown",
   "metadata": {},
   "source": [
    "### Reading the Dataset"
   ]
  },
  {
   "cell_type": "code",
   "execution_count": 2,
   "metadata": {},
   "outputs": [
    {
     "data": {
      "text/plain": [
       "(1143, 11)"
      ]
     },
     "execution_count": 2,
     "metadata": {},
     "output_type": "execute_result"
    }
   ],
   "source": [
    "# reading the data set\n",
    "data = pd.read_csv('data.csv')\n",
    "\n",
    "# Print the Shape\n",
    "data.shape"
   ]
  },
  {
   "cell_type": "code",
   "execution_count": 3,
   "metadata": {},
   "outputs": [
    {
     "data": {
      "text/html": [
       "<div>\n",
       "<style scoped>\n",
       "    .dataframe tbody tr th:only-of-type {\n",
       "        vertical-align: middle;\n",
       "    }\n",
       "\n",
       "    .dataframe tbody tr th {\n",
       "        vertical-align: top;\n",
       "    }\n",
       "\n",
       "    .dataframe thead th {\n",
       "        text-align: right;\n",
       "    }\n",
       "</style>\n",
       "<table border=\"1\" class=\"dataframe\">\n",
       "  <thead>\n",
       "    <tr style=\"text-align: right;\">\n",
       "      <th></th>\n",
       "      <th>ad_id</th>\n",
       "      <th>xyz_campaign_id</th>\n",
       "      <th>fb_campaign_id</th>\n",
       "      <th>age</th>\n",
       "      <th>gender</th>\n",
       "      <th>interest</th>\n",
       "      <th>Impressions</th>\n",
       "      <th>Clicks</th>\n",
       "      <th>Spent</th>\n",
       "      <th>Total_Conversion</th>\n",
       "      <th>Approved_Conversion</th>\n",
       "    </tr>\n",
       "  </thead>\n",
       "  <tbody>\n",
       "    <tr>\n",
       "      <th>0</th>\n",
       "      <td>708746</td>\n",
       "      <td>916</td>\n",
       "      <td>103916</td>\n",
       "      <td>30-34</td>\n",
       "      <td>M</td>\n",
       "      <td>15</td>\n",
       "      <td>7350</td>\n",
       "      <td>1</td>\n",
       "      <td>1.43</td>\n",
       "      <td>2</td>\n",
       "      <td>1</td>\n",
       "    </tr>\n",
       "    <tr>\n",
       "      <th>1</th>\n",
       "      <td>708749</td>\n",
       "      <td>916</td>\n",
       "      <td>103917</td>\n",
       "      <td>30-34</td>\n",
       "      <td>M</td>\n",
       "      <td>16</td>\n",
       "      <td>17861</td>\n",
       "      <td>2</td>\n",
       "      <td>1.82</td>\n",
       "      <td>2</td>\n",
       "      <td>0</td>\n",
       "    </tr>\n",
       "    <tr>\n",
       "      <th>2</th>\n",
       "      <td>708771</td>\n",
       "      <td>916</td>\n",
       "      <td>103920</td>\n",
       "      <td>30-34</td>\n",
       "      <td>M</td>\n",
       "      <td>20</td>\n",
       "      <td>693</td>\n",
       "      <td>0</td>\n",
       "      <td>0.00</td>\n",
       "      <td>1</td>\n",
       "      <td>0</td>\n",
       "    </tr>\n",
       "    <tr>\n",
       "      <th>3</th>\n",
       "      <td>708815</td>\n",
       "      <td>916</td>\n",
       "      <td>103928</td>\n",
       "      <td>30-34</td>\n",
       "      <td>M</td>\n",
       "      <td>28</td>\n",
       "      <td>4259</td>\n",
       "      <td>1</td>\n",
       "      <td>1.25</td>\n",
       "      <td>1</td>\n",
       "      <td>0</td>\n",
       "    </tr>\n",
       "    <tr>\n",
       "      <th>4</th>\n",
       "      <td>708818</td>\n",
       "      <td>916</td>\n",
       "      <td>103928</td>\n",
       "      <td>30-34</td>\n",
       "      <td>M</td>\n",
       "      <td>28</td>\n",
       "      <td>4133</td>\n",
       "      <td>1</td>\n",
       "      <td>1.29</td>\n",
       "      <td>1</td>\n",
       "      <td>1</td>\n",
       "    </tr>\n",
       "  </tbody>\n",
       "</table>\n",
       "</div>"
      ],
      "text/plain": [
       "    ad_id  xyz_campaign_id  fb_campaign_id    age gender  interest  \\\n",
       "0  708746              916          103916  30-34      M        15   \n",
       "1  708749              916          103917  30-34      M        16   \n",
       "2  708771              916          103920  30-34      M        20   \n",
       "3  708815              916          103928  30-34      M        28   \n",
       "4  708818              916          103928  30-34      M        28   \n",
       "\n",
       "   Impressions  Clicks  Spent  Total_Conversion  Approved_Conversion  \n",
       "0         7350       1   1.43                 2                    1  \n",
       "1        17861       2   1.82                 2                    0  \n",
       "2          693       0   0.00                 1                    0  \n",
       "3         4259       1   1.25                 1                    0  \n",
       "4         4133       1   1.29                 1                    1  "
      ]
     },
     "execution_count": 3,
     "metadata": {},
     "output_type": "execute_result"
    }
   ],
   "source": [
    "# lets check the head of the dataset\n",
    "data.head()"
   ]
  },
  {
   "cell_type": "code",
   "execution_count": 201,
   "metadata": {},
   "outputs": [
    {
     "name": "stdout",
     "output_type": "stream",
     "text": [
      "Number of Unique Ads : 1143\n",
      "Number of Campaigns : 3\n",
      "Number of Facebook Campaigns : 691\n",
      "Number of Interest Groups : 40\n",
      "Number of Age Groups : 4\n"
     ]
    }
   ],
   "source": [
    "## lets analyze the Campaigns\n",
    "\n",
    "print(\"Number of Unique Ads :\", data['ad_id'].nunique())\n",
    "print(\"Number of Campaigns :\", data['xyz_campaign_id'].nunique())\n",
    "print(\"Number of Facebook Campaigns :\", data['fb_campaign_id'].nunique())\n",
    "print(\"Number of Interest Groups :\", data['interest'].nunique())\n",
    "print(\"Number of Age Groups :\", data['age'].nunique())"
   ]
  },
  {
   "cell_type": "code",
   "execution_count": 202,
   "metadata": {},
   "outputs": [
    {
     "data": {
      "text/plain": [
       "Index(['xyz_campaign_id', 'age', 'gender', 'interest', 'Impressions', 'Clicks',\n",
       "       'Spent', 'Total_Conversion', 'Approved_Conversion'],\n",
       "      dtype='object')"
      ]
     },
     "execution_count": 202,
     "metadata": {},
     "output_type": "execute_result"
    }
   ],
   "source": [
    "# as we can see that every ad is having an Unique ID, so we will remove that column.\n",
    "# again, Facebook campaign has no relation with any conversion, so, let's remove this column also.\n",
    "\n",
    "data = data.drop(['ad_id', 'fb_campaign_id'], axis = 1)\n",
    "\n",
    "# now lets check the column names again to make sure above columns are removed\n",
    "data.columns"
   ]
  },
  {
   "cell_type": "markdown",
   "metadata": {},
   "source": [
    "### Feature Engineering"
   ]
  },
  {
   "cell_type": "markdown",
   "metadata": {},
   "source": [
    "* ```Click-through-rate (CTR)```: This is the percentage of how many of our impressions became clicks. A high CTR is often seen as a sign of good creative being presented to a relevant audience. A low click through rate is suggestive of less-than-engaging adverts (design and / or messaging) and / or presentation of adverts to an inappropriate audience. What is seen as a good CTR will depend on the type of advert (website banner, Google Shopping ad, search network test ad etc.) and can vary across sectors, but 2% would be a reasonable benchmark.\n",
    "\n",
    "--------------\n",
    "* ```Conversion Rate (CR)```: This is the percentage of clicks that result in a 'conversion'. What a conversion is will be determined by the objectives of the campaign. It could be a sale, someone completing a contact form on a landing page, downloading an e-book, watching a video, or simply spending more than a particular amount of time or viewing over a target number of pages on a website.\n",
    "\n",
    "-------------\n",
    "* ```Cost Per Click (CPC)```: Self-explanatory this one: how much (on average) did each click cost. While it can often be seen as desirable to reduce the cost per click, the CPC needs to be considered along with other variables. For example, a campaign with an average CPC of £0.5 and a CR of 5% is likely achieving more with its budget than one with a CPC of £0.2 and a CR of 1% (assuming the conversion value is the same.\n",
    "\n",
    "-----------------\n",
    "* ```Cost Per Conversion```: Another simple metric, this figure is often more relevant than the CPC, as it combines the CPC and CR metrics, giving us an easy way to quickly get a feel for campaign effectiveness."
   ]
  },
  {
   "cell_type": "code",
   "execution_count": 206,
   "metadata": {},
   "outputs": [],
   "source": [
    "# Performing Feature Engineering to understand the Campaigns in Detail\n",
    "\n",
    "# lets create a Column to understand CTR\n",
    "data['ClickThroughRate'] = ((data['Clicks']/data['Impressions'])*100)\n",
    "\n",
    "# lets create a column to understand CPC\n",
    "data['CostPerClick'] = (data['Spent']/data['Clicks'])\n",
    "\n",
    "# lets create a column to understand Conversion Rate\n",
    "data['ConversionRate'] = (data['Approved_Conversion']/data['Total_Conversion'])\n",
    "\n",
    "# lets create a column to understand the Cost per Conversion\n",
    "data['CostPerConversion'] = (data['Spent']/data['Approved_Conversion']) "
   ]
  },
  {
   "cell_type": "markdown",
   "metadata": {},
   "source": [
    "* ```Conversion Value```: A conversion value is a numerical value that you assign to specific conversions in order to represent their impact to your business. The major benefit to assigning conversion values is to help you track, optimize, and report on your return on ad spend (ROAS).\n",
    "\n",
    "----------------\n",
    "* ```ROAS```: ROAS stands for return on ad spend—a marketing metric that measures the amount of revenue your business earns for each dollar it spends on advertising. For all intents and purposes, ROAS is practically the same as another metric you're probably familiar with: return on investment, or ROI.\n",
    "\n",
    "-----------------\n",
    "* ```Cost Per Mille```: This number is the cost of one thousand impressions. If your objective is ad exposure to increase brand awareness, this might be an important KPI for you to measure."
   ]
  },
  {
   "cell_type": "markdown",
   "metadata": {},
   "source": [
    "**We don't have the actual numbers to understand the Profit of after Conversion, but for the purposes of Understanding, let's assume that an Approved conversion is worth 100 dollars.** "
   ]
  },
  {
   "cell_type": "code",
   "execution_count": 207,
   "metadata": {},
   "outputs": [],
   "source": [
    "# lets add More Features to Understand the Return on Investment also known as ROAS(Return on Ad Spend)\n",
    "\n",
    "# lets calculate the Conversion Value, Let's Assume that the Value of Sales if 100 Dollars\n",
    "data['ConversionValue'] = data['Approved_Conversion']*100\n",
    "\n",
    "# lets calculate the ROAS Which is the Target Variable for us\n",
    "data['ROAS'] = round(data['ConversionValue']/data['Spent'], 2)\n",
    "\n",
    "# lets Calculate CPM to understand the Brand Awareness from Campaigns\n",
    "data['CostPerMille'] = round((data['Spent']/data['Impressions'])*1000, 2)"
   ]
  },
  {
   "cell_type": "code",
   "execution_count": 209,
   "metadata": {},
   "outputs": [
    {
     "name": "stdout",
     "output_type": "stream",
     "text": [
      "Shape of the Data After Removing Nans and Infs : (513, 16)\n"
     ]
    }
   ],
   "source": [
    "# Lets remove all the records where we have any Nan, value or Infinity Value\n",
    "data = data.replace([np.inf, -np.inf], np.nan).dropna(axis=0)\n",
    "\n",
    "# lets check the shape of the data after remving unnecessary records\n",
    "print(\"Shape of the Data After Removing Nans and Infs :\", data.shape)"
   ]
  },
  {
   "cell_type": "code",
   "execution_count": 210,
   "metadata": {},
   "outputs": [
    {
     "data": {
      "text/html": [
       "<style  type=\"text/css\" >\n",
       "#T_e6f7a746_3e25_11eb_9b0b_b46d83e4183erow0_col1,#T_e6f7a746_3e25_11eb_9b0b_b46d83e4183erow0_col3,#T_e6f7a746_3e25_11eb_9b0b_b46d83e4183erow0_col5,#T_e6f7a746_3e25_11eb_9b0b_b46d83e4183erow1_col6,#T_e6f7a746_3e25_11eb_9b0b_b46d83e4183erow2_col2,#T_e6f7a746_3e25_11eb_9b0b_b46d83e4183erow2_col4{\n",
       "            background-color:  #fc7f00;\n",
       "            color:  #000000;\n",
       "        }#T_e6f7a746_3e25_11eb_9b0b_b46d83e4183erow0_col2,#T_e6f7a746_3e25_11eb_9b0b_b46d83e4183erow0_col4,#T_e6f7a746_3e25_11eb_9b0b_b46d83e4183erow2_col1,#T_e6f7a746_3e25_11eb_9b0b_b46d83e4183erow2_col3,#T_e6f7a746_3e25_11eb_9b0b_b46d83e4183erow2_col5,#T_e6f7a746_3e25_11eb_9b0b_b46d83e4183erow2_col6{\n",
       "            background-color:  #e4ff7a;\n",
       "            color:  #000000;\n",
       "        }#T_e6f7a746_3e25_11eb_9b0b_b46d83e4183erow0_col6{\n",
       "            background-color:  #fd8d00;\n",
       "            color:  #000000;\n",
       "        }#T_e6f7a746_3e25_11eb_9b0b_b46d83e4183erow1_col1{\n",
       "            background-color:  #fd8900;\n",
       "            color:  #000000;\n",
       "        }#T_e6f7a746_3e25_11eb_9b0b_b46d83e4183erow1_col2{\n",
       "            background-color:  #f3f245;\n",
       "            color:  #000000;\n",
       "        }#T_e6f7a746_3e25_11eb_9b0b_b46d83e4183erow1_col3{\n",
       "            background-color:  #fc8100;\n",
       "            color:  #000000;\n",
       "        }#T_e6f7a746_3e25_11eb_9b0b_b46d83e4183erow1_col4{\n",
       "            background-color:  #e8fb6b;\n",
       "            color:  #000000;\n",
       "        }#T_e6f7a746_3e25_11eb_9b0b_b46d83e4183erow1_col5{\n",
       "            background-color:  #fd8c00;\n",
       "            color:  #000000;\n",
       "        }</style><table id=\"T_e6f7a746_3e25_11eb_9b0b_b46d83e4183e\" ><thead>    <tr>        <th class=\"blank level0\" ></th>        <th class=\"col_heading level0 col0\" >Campaign</th>        <th class=\"col_heading level0 col1\" >Average CTR</th>        <th class=\"col_heading level0 col2\" >Average Cost/Click</th>        <th class=\"col_heading level0 col3\" >Average ConversionRate</th>        <th class=\"col_heading level0 col4\" >ConversionValue</th>        <th class=\"col_heading level0 col5\" >CostPerMille</th>        <th class=\"col_heading level0 col6\" >ROAS</th>    </tr></thead><tbody>\n",
       "                <tr>\n",
       "                        <th id=\"T_e6f7a746_3e25_11eb_9b0b_b46d83e4183elevel0_row0\" class=\"row_heading level0 row0\" >0</th>\n",
       "                        <td id=\"T_e6f7a746_3e25_11eb_9b0b_b46d83e4183erow0_col0\" class=\"data row0 col0\" >campaign_a</td>\n",
       "                        <td id=\"T_e6f7a746_3e25_11eb_9b0b_b46d83e4183erow0_col1\" class=\"data row0 col1\" >0.027162</td>\n",
       "                        <td id=\"T_e6f7a746_3e25_11eb_9b0b_b46d83e4183erow0_col2\" class=\"data row0 col2\" >1.339464</td>\n",
       "                        <td id=\"T_e6f7a746_3e25_11eb_9b0b_b46d83e4183erow0_col3\" class=\"data row0 col3\" >0.906250</td>\n",
       "                        <td id=\"T_e6f7a746_3e25_11eb_9b0b_b46d83e4183erow0_col4\" class=\"data row0 col4\" >100.000000</td>\n",
       "                        <td id=\"T_e6f7a746_3e25_11eb_9b0b_b46d83e4183erow0_col5\" class=\"data row0 col5\" >0.371250</td>\n",
       "                        <td id=\"T_e6f7a746_3e25_11eb_9b0b_b46d83e4183erow0_col6\" class=\"data row0 col6\" >42.500000</td>\n",
       "            </tr>\n",
       "            <tr>\n",
       "                        <th id=\"T_e6f7a746_3e25_11eb_9b0b_b46d83e4183elevel0_row1\" class=\"row_heading level0 row1\" >1</th>\n",
       "                        <td id=\"T_e6f7a746_3e25_11eb_9b0b_b46d83e4183erow1_col0\" class=\"data row1 col0\" >campaign_b</td>\n",
       "                        <td id=\"T_e6f7a746_3e25_11eb_9b0b_b46d83e4183erow1_col1\" class=\"data row1 col1\" >0.026293</td>\n",
       "                        <td id=\"T_e6f7a746_3e25_11eb_9b0b_b46d83e4183erow1_col2\" class=\"data row1 col2\" >1.372928</td>\n",
       "                        <td id=\"T_e6f7a746_3e25_11eb_9b0b_b46d83e4183erow1_col3\" class=\"data row1 col3\" >0.899851</td>\n",
       "                        <td id=\"T_e6f7a746_3e25_11eb_9b0b_b46d83e4183erow1_col4\" class=\"data row1 col4\" >105.357143</td>\n",
       "                        <td id=\"T_e6f7a746_3e25_11eb_9b0b_b46d83e4183erow1_col5\" class=\"data row1 col5\" >0.359732</td>\n",
       "                        <td id=\"T_e6f7a746_3e25_11eb_9b0b_b46d83e4183erow1_col6\" class=\"data row1 col6\" >47.035089</td>\n",
       "            </tr>\n",
       "            <tr>\n",
       "                        <th id=\"T_e6f7a746_3e25_11eb_9b0b_b46d83e4183elevel0_row2\" class=\"row_heading level0 row2\" >2</th>\n",
       "                        <td id=\"T_e6f7a746_3e25_11eb_9b0b_b46d83e4183erow2_col0\" class=\"data row2 col0\" >campaign_c</td>\n",
       "                        <td id=\"T_e6f7a746_3e25_11eb_9b0b_b46d83e4183erow2_col1\" class=\"data row2 col1\" >0.016359</td>\n",
       "                        <td id=\"T_e6f7a746_3e25_11eb_9b0b_b46d83e4183erow2_col2\" class=\"data row2 col2\" >1.583425</td>\n",
       "                        <td id=\"T_e6f7a746_3e25_11eb_9b0b_b46d83e4183erow2_col3\" class=\"data row2 col3\" >0.518370</td>\n",
       "                        <td id=\"T_e6f7a746_3e25_11eb_9b0b_b46d83e4183erow2_col4\" class=\"data row2 col4\" >225.714286</td>\n",
       "                        <td id=\"T_e6f7a746_3e25_11eb_9b0b_b46d83e4183erow2_col5\" class=\"data row2 col5\" >0.254000</td>\n",
       "                        <td id=\"T_e6f7a746_3e25_11eb_9b0b_b46d83e4183erow2_col6\" class=\"data row2 col6\" >5.214623</td>\n",
       "            </tr>\n",
       "    </tbody></table>"
      ],
      "text/plain": [
       "<pandas.io.formats.style.Styler at 0x2c53ee8b7f0>"
      ]
     },
     "execution_count": 210,
     "metadata": {},
     "output_type": "execute_result"
    }
   ],
   "source": [
    "# lets Compare the Campaign based on the New Features Created\n",
    "\n",
    "data[['xyz_campaign_id','ClickThroughRate','CostPerClick','ConversionRate',\n",
    "     'ConversionValue','CostPerMille', 'ROAS']].groupby(['xyz_campaign_id'],\n",
    "         as_index = False).agg('mean').rename(columns = {'xyz_campaign_id': 'Campaign',\n",
    "                             'ClickThroughRate': 'Average CTR',\n",
    "                             'CostPerClick': 'Average Cost/Click', \n",
    "                        'ConversionRate':'Average ConversionRate'}).style.background_gradient(cmap = 'Wistia')"
   ]
  }
 ],
 "metadata": {
  "kernelspec": {
   "display_name": "Python 3",
   "language": "python",
   "name": "python3"
  },
  "language_info": {
   "codemirror_mode": {
    "name": "ipython",
    "version": 3
   },
   "file_extension": ".py",
   "mimetype": "text/x-python",
   "name": "python",
   "nbconvert_exporter": "python",
   "pygments_lexer": "ipython3",
   "version": "3.6.8"
  }
 },
 "nbformat": 4,
 "nbformat_minor": 4
}
