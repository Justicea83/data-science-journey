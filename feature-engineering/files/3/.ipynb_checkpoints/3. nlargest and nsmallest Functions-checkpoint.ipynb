{
 "cells": [
  {
   "cell_type": "code",
   "execution_count": 1,
   "metadata": {},
   "outputs": [],
   "source": [
    "# let import Pandas\n",
    "import pandas as pd"
   ]
  },
  {
   "cell_type": "markdown",
   "metadata": {},
   "source": [
    "```nlargest Function```: Return the largest n elements.\n",
    "\n",
    "* **Parameters**: default 5. Return this many descending sorted values.\n",
    "\n",
    "    * **keep**: {‘first’, ‘last’, ‘all’}, default ‘first’. When there are duplicate values that cannot all fit in a Series of n elements.\n",
    "\n",
    "    * **first**: return the first n occurrences in order of appearance.\n",
    "\n",
    "    * **last**: return the last n occurrences in reverse order of appearance.\n",
    "\n",
    "    * **all**: keep all occurrences. This can result in a Series of size larger than n."
   ]
  },
  {
   "cell_type": "code",
   "execution_count": 6,
   "metadata": {},
   "outputs": [
    {
     "data": {
      "text/plain": [
       "Italy         59000000\n",
       "France        65000000\n",
       "Malta           434000\n",
       "Maldives        434000\n",
       "Brunei          434000\n",
       "Iceland         337000\n",
       "Nauru            11300\n",
       "Tuvalu           11300\n",
       "Anguilla         11300\n",
       "Montserrat        5200\n",
       "dtype: int64"
      ]
     },
     "execution_count": 6,
     "metadata": {},
     "output_type": "execute_result"
    }
   ],
   "source": [
    "# lets create a Dataframe with Country Population\n",
    "\n",
    "countries_population = {\"Italy\": 59000000, \"France\": 65000000,\n",
    "                        \"Malta\": 434000, \"Maldives\": 434000,\n",
    "                        \"Brunei\": 434000, \"Iceland\": 337000,\n",
    "                        \"Nauru\": 11300, \"Tuvalu\": 11300,\n",
    "                        \"Anguilla\": 11300, \"Montserrat\": 5200}\n",
    "s = pd.Series(countries_population)\n",
    "\n",
    "# lets Print the Dataset\n",
    "s"
   ]
  },
  {
   "cell_type": "code",
   "execution_count": 7,
   "metadata": {},
   "outputs": [
    {
     "data": {
      "text/plain": [
       "France      65000000\n",
       "Italy       59000000\n",
       "Malta         434000\n",
       "Maldives      434000\n",
       "Brunei        434000\n",
       "dtype: int64"
      ]
     },
     "execution_count": 7,
     "metadata": {},
     "output_type": "execute_result"
    }
   ],
   "source": [
    "# lets check the Top 5 Populated Countries\n",
    "s.nlargest()"
   ]
  },
  {
   "cell_type": "code",
   "execution_count": 8,
   "metadata": {},
   "outputs": [
    {
     "data": {
      "text/plain": [
       "France    65000000\n",
       "Italy     59000000\n",
       "Malta       434000\n",
       "dtype: int64"
      ]
     },
     "execution_count": 8,
     "metadata": {},
     "output_type": "execute_result"
    }
   ],
   "source": [
    "s.nlargest(3)"
   ]
  },
  {
   "cell_type": "code",
   "execution_count": 9,
   "metadata": {},
   "outputs": [
    {
     "data": {
      "text/plain": [
       "France      65000000\n",
       "Italy       59000000\n",
       "Malta         434000\n",
       "Maldives      434000\n",
       "Brunei        434000\n",
       "Iceland       337000\n",
       "Nauru          11300\n",
       "dtype: int64"
      ]
     },
     "execution_count": 9,
     "metadata": {},
     "output_type": "execute_result"
    }
   ],
   "source": [
    "s.nlargest(7)"
   ]
  },
  {
   "cell_type": "code",
   "execution_count": 10,
   "metadata": {},
   "outputs": [
    {
     "data": {
      "text/plain": [
       "France    65000000\n",
       "Italy     59000000\n",
       "Brunei      434000\n",
       "dtype: int64"
      ]
     },
     "execution_count": 10,
     "metadata": {},
     "output_type": "execute_result"
    }
   ],
   "source": [
    "s.nlargest(3, keep='last')"
   ]
  },
  {
   "cell_type": "code",
   "execution_count": 11,
   "metadata": {},
   "outputs": [
    {
     "data": {
      "text/plain": [
       "France      65000000\n",
       "Italy       59000000\n",
       "Malta         434000\n",
       "Maldives      434000\n",
       "Brunei        434000\n",
       "dtype: int64"
      ]
     },
     "execution_count": 11,
     "metadata": {},
     "output_type": "execute_result"
    }
   ],
   "source": [
    "s.nlargest(3, keep='all')"
   ]
  },
  {
   "cell_type": "markdown",
   "metadata": {},
   "source": [
    "```nsmallest Function```: Return the first n rows ordered by columns in ascending order.It Return the first n rows with the smallest values in columns, in ascending order. The columns that are not specified are returned as well, but not used for ordering.\n",
    "\n",
    "* **Parameters** Number of items to retrieve.\n",
    "    * **keep**: {‘first’, ‘last’, ‘all’}, default ‘first’ Where there are duplicate values:\n",
    "\n",
    "    * **first** : take the first occurrence.\n",
    "\n",
    "    * **last** : take the last occurrence.\n",
    "\n",
    "    * **all** : do not drop any duplicates, even it means selecting more than n items."
   ]
  },
  {
   "cell_type": "code",
   "execution_count": 14,
   "metadata": {},
   "outputs": [
    {
     "data": {
      "text/plain": [
       "Montserrat     5200\n",
       "Nauru         11300\n",
       "Tuvalu        11300\n",
       "dtype: int64"
      ]
     },
     "execution_count": 14,
     "metadata": {},
     "output_type": "execute_result"
    }
   ],
   "source": [
    "s.nsmallest(3)"
   ]
  },
  {
   "cell_type": "code",
   "execution_count": 16,
   "metadata": {},
   "outputs": [
    {
     "data": {
      "text/plain": [
       "Montserrat     5200\n",
       "Nauru         11300\n",
       "Tuvalu        11300\n",
       "Anguilla      11300\n",
       "dtype: int64"
      ]
     },
     "execution_count": 16,
     "metadata": {},
     "output_type": "execute_result"
    }
   ],
   "source": [
    "s.nsmallest(3, keep = 'all')"
   ]
  },
  {
   "cell_type": "code",
   "execution_count": 18,
   "metadata": {},
   "outputs": [
    {
     "data": {
      "text/plain": [
       "Montserrat     5200\n",
       "Nauru         11300\n",
       "Tuvalu        11300\n",
       "dtype: int64"
      ]
     },
     "execution_count": 18,
     "metadata": {},
     "output_type": "execute_result"
    }
   ],
   "source": [
    "s.nsmallest(3, keep = 'first')"
   ]
  }
 ],
 "metadata": {
  "kernelspec": {
   "display_name": "Python 3",
   "language": "python",
   "name": "python3"
  },
  "language_info": {
   "codemirror_mode": {
    "name": "ipython",
    "version": 3
   },
   "file_extension": ".py",
   "mimetype": "text/x-python",
   "name": "python",
   "nbconvert_exporter": "python",
   "pygments_lexer": "ipython3",
   "version": "3.6.8"
  }
 },
 "nbformat": 4,
 "nbformat_minor": 4
}
